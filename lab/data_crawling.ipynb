{
 "cells": [
  {
   "cell_type": "markdown",
   "id": "63467d33",
   "metadata": {},
   "source": [
    "https://www.data.go.kr/data/15097922/fileData.do"
   ]
  },
  {
   "cell_type": "code",
   "execution_count": null,
   "id": "38a5d639",
   "metadata": {},
   "outputs": [],
   "source": [
    "import requests\n",
    "from bs4 import BeautifulSoup as bs\n",
    "import pandas as pd"
   ]
  },
  {
   "cell_type": "code",
   "execution_count": null,
   "id": "0d8b8dda",
   "metadata": {},
   "outputs": [],
   "source": [
    "page = '2'\n",
    "document_num = '471168842'\n",
    "url = \n",
    "\n",
    "url"
   ]
  },
  {
   "cell_type": "code",
   "execution_count": null,
   "id": "a26b856a",
   "metadata": {},
   "outputs": [],
   "source": [
    "response = requests.get(url, headers={'User-Agent': 'Mozilla/5.0'})\n",
    "#403오류 해결\n",
    "\n",
    "comment_list = []\n",
    "\n",
    "if (response.status_code == 200):\n",
    "    html = response.text\n",
    "    soup = bs(html, 'html.parser')\n",
    "    selector = 'div.exJsOriginalContent > div.repCnt'\n",
    "    for i  in soup.select(selector):\n",
    "        comment_list.append(i)\n",
    "    print(comment_list)\n",
    "    \n",
    "else:\n",
    "    print(f'오류: {response.status_code}')"
   ]
  },
  {
   "cell_type": "code",
   "execution_count": null,
   "id": "147a6947",
   "metadata": {},
   "outputs": [],
   "source": []
  }
 ],
 "metadata": {
  "kernelspec": {
   "display_name": "Python 3 (ipykernel)",
   "language": "python",
   "name": "python3"
  },
  "language_info": {
   "codemirror_mode": {
    "name": "ipython",
    "version": 3
   },
   "file_extension": ".py",
   "mimetype": "text/x-python",
   "name": "python",
   "nbconvert_exporter": "python",
   "pygments_lexer": "ipython3",
   "version": "3.9.7"
  }
 },
 "nbformat": 4,
 "nbformat_minor": 5
}
