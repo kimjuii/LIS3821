{
 "cells": [
  {
   "cell_type": "markdown",
   "id": "63467d33",
   "metadata": {},
   "source": [
    "https://www.data.go.kr/data/15097922/fileData.do"
   ]
  },
  {
   "cell_type": "code",
   "execution_count": 1,
   "id": "38a5d639",
   "metadata": {},
   "outputs": [],
   "source": [
    "import requests\n",
    "#BeautifulSoup\n",
    "from bs4 import BeautifulSoup as bs \n",
    "#Selenium\n",
    "from selenium import webdriver\n",
    "from selenium.webdriver.common.keys import Keys\n",
    "from webdriver_manager.chrome import ChromeDriverManager\n",
    "from selenium.webdriver.support import expected_conditions as EC\n",
    "\n",
    "\n",
    "import os\n",
    "import time\n",
    "from tqdm import tqdm #showing process bar\n",
    "import pandas as pd\n",
    "import csv\n",
    "import re\n",
    "import numpy as np"
   ]
  },
  {
   "cell_type": "code",
   "execution_count": 2,
   "id": "9f8d34c0",
   "metadata": {},
   "outputs": [
    {
     "name": "stdout",
     "output_type": "stream",
     "text": [
      "\n"
     ]
    },
    {
     "name": "stderr",
     "output_type": "stream",
     "text": [
      "[WDM] - ====== WebDriver manager ======\n",
      "[WDM] - Current google-chrome version is 102.0.5005\n",
      "[WDM] - Get LATEST chromedriver version for 102.0.5005 google-chrome\n",
      "[WDM] - Driver [C:\\Users\\cathy\\.wdm\\drivers\\chromedriver\\win32\\102.0.5005.61\\chromedriver.exe] found in cache\n"
     ]
    },
    {
     "name": "stdout",
     "output_type": "stream",
     "text": [
      "C:\\Users\\cathy\\.wdm\\drivers\\chromedriver\\win32\\102.0.5005.61\\chromedriver.exe\n",
      "\n"
     ]
    },
    {
     "name": "stderr",
     "output_type": "stream",
     "text": [
      "[WDM] - ====== WebDriver manager ======\n",
      "[WDM] - Current google-chrome version is 102.0.5005\n",
      "[WDM] - Get LATEST chromedriver version for 102.0.5005 google-chrome\n",
      "[WDM] - Driver [C:\\Users\\cathy\\.wdm\\drivers\\chromedriver\\win32\\102.0.5005.61\\chromedriver.exe] found in cache\n",
      "C:\\Users\\cathy\\AppData\\Local\\Temp/ipykernel_28756/1827251057.py:8: DeprecationWarning: executable_path has been deprecated, please pass in a Service object\n",
      "  driver = webdriver.Chrome(ChromeDriverManager().install(), options=options)\n"
     ]
    }
   ],
   "source": [
    "path = ChromeDriverManager().install()\n",
    "print(path)\n",
    "\n",
    "options = webdriver.ChromeOptions()\n",
    "#창을 띄우지 않고, 크롤링\n",
    "#options.add_argument('headless')\n",
    "\n",
    "driver = webdriver.Chrome(ChromeDriverManager().install(), options=options)\n",
    "#완전히 로드될 때까지 최대 7초 기다림 \n",
    "#time.sleep()<프로세스 자체를 지정한 시간동안 기다림>과 비슷한데, 더 빠름\n",
    "driver.implicitly_wait(5) #브라우저에서 사용되는 엔진 자체에서 파싱되는 시간을 기다림"
   ]
  },
  {
   "cell_type": "code",
   "execution_count": 3,
   "id": "a26b856a",
   "metadata": {
    "scrolled": false
   },
   "outputs": [
    {
     "name": "stderr",
     "output_type": "stream",
     "text": [
      "C:\\Users\\cathy\\AppData\\Local\\Temp/ipykernel_28756/4007887117.py:16: DeprecationWarning: find_element_by_xpath is deprecated. Please use find_element(by=By.XPATH, value=xpath) instead\n",
      "  element =  driver.find_element_by_xpath(xpath)\n"
     ]
    }
   ],
   "source": [
    "elements = []\n",
    "rows = []\n",
    "\n",
    "\n",
    "for pg in range(1, 11):\n",
    "    pp = 100 #table row\n",
    "    url = f'http://www.cgs.or.kr/business/esg_tab04.jsp?pg={pg}&pp={pp}&skey=&svalue=&sfyear=2021&styear=2021&sgtype=TOTAL&sgrade=#ui_contents'\n",
    "    #url 접속\n",
    "    driver.get(url)\n",
    "    \n",
    "    #row(pp) 100개\n",
    "    for i in range(1,101):\n",
    "        #NO, 비고(조정시기) 제외하고 elements 가져오기\n",
    "        for u in range(2,9):\n",
    "            xpath = f'//*[@id=\"ui_contents\"]/div[2]/div[3]/table/tbody/tr[{i}]/td[{u}]'\n",
    "            element =  driver.find_element_by_xpath(xpath)\n",
    "            driver.implicitly_wait(3)\n",
    "                    \n",
    "            elements.append(element)\n",
    "            u += 1\n",
    "            \n",
    "        rows.append(elements)\n",
    "        elements = []\n",
    "        i += 1\n",
    "        pg += 1\n",
    "        \n",
    "columns = ['기업명', '기업코드', 'ESG등급', '환경', '사회', '지배구조', '평가년도']\n",
    "df = pd.DataFrame(columns=columns, data=rows)\n",
    "df.to_csv('../datasets/KCGS_ESG등급.csv')\n",
    "        \n",
    "\n",
    "       \n",
    "    \n"
   ]
  }
 ],
 "metadata": {
  "kernelspec": {
   "display_name": "Python 3 (ipykernel)",
   "language": "python",
   "name": "python3"
  },
  "language_info": {
   "codemirror_mode": {
    "name": "ipython",
    "version": 3
   },
   "file_extension": ".py",
   "mimetype": "text/x-python",
   "name": "python",
   "nbconvert_exporter": "python",
   "pygments_lexer": "ipython3",
   "version": "3.9.7"
  }
 },
 "nbformat": 4,
 "nbformat_minor": 5
}
