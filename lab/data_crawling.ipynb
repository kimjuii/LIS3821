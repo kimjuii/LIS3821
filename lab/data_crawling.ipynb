{
 "cells": [
  {
   "cell_type": "markdown",
   "id": "63467d33",
   "metadata": {},
   "source": [
    "https://www.data.go.kr/data/15097922/fileData.do"
   ]
  },
  {
   "cell_type": "code",
   "execution_count": 1,
   "id": "38a5d639",
   "metadata": {},
   "outputs": [],
   "source": [
    "import requests\n",
    "from multiprocessing import Pool\n",
    "#BeautifulSoup\n",
    "from bs4 import BeautifulSoup as bs \n",
    "#Selenium\n",
    "from selenium import webdriver \n",
    "from selenium.webdriver.common.keys import Keys\n",
    "\n",
    "\n",
    "import time\n",
    "from tqdm import tqdm #showing process bar\n",
    "import pandas as pd\n",
    "import csv\n",
    "import openpyxl #read & write excel file in Python\n",
    "import re\n",
    "import gc\n",
    "import numpy as np\n",
    "import random"
   ]
  },
  {
   "cell_type": "code",
   "execution_count": 2,
   "id": "0d8b8dda",
   "metadata": {},
   "outputs": [
    {
     "ename": "SyntaxError",
     "evalue": "invalid syntax (Temp/ipykernel_26788/709873281.py, line 4)",
     "output_type": "error",
     "traceback": [
      "\u001b[1;36m  File \u001b[1;32m\"C:\\Users\\cathy\\AppData\\Local\\Temp/ipykernel_26788/709873281.py\"\u001b[1;36m, line \u001b[1;32m4\u001b[0m\n\u001b[1;33m    http://www.cgs.or.kr/business/esg_tab04.jsp?pg=1&pp=10&skey=&svalue=&sfyear=2021&styear=2021&sgtype=TOTAL&sgrade=#ui_contents\u001b[0m\n\u001b[1;37m         ^\u001b[0m\n\u001b[1;31mSyntaxError\u001b[0m\u001b[1;31m:\u001b[0m invalid syntax\n"
     ]
    }
   ],
   "source": [
    "pg = '1'\n",
    "pp = '50'\n",
    "url = f'http://www.cgs.or.kr/business/esg_tab04.jsp?pg={pg}&pp={pp}&skey=&svalue=&sfyear=2021&styear=2021&sgtype=TOTAL&sgrade=#ui_contents'\n",
    "\n",
    "url"
   ]
  },
  {
   "cell_type": "code",
   "execution_count": null,
   "id": "a3c500b6",
   "metadata": {},
   "outputs": [],
   "source": [
    "#chromdirver path 지정\n",
    "driver = webdriver.Chrome('C:/Users/cathy/Jupyter/chromdriver')\n",
    "\n",
    "#url 접속\n",
    "driver.get(url)"
   ]
  },
  {
   "cell_type": "code",
   "execution_count": null,
   "id": "a26b856a",
   "metadata": {},
   "outputs": [],
   "source": [
    "#get 요청하고, response 받음\n",
    "req = requests.get(url, headers={'User-Agent': 'Mozilla/5.0'})\n",
    "#403오류 해결\n",
    "\n",
    "company = []\n",
    "code = []\n",
    "esg_score = []\n",
    "e_score = []\n",
    "s_score = []\n",
    "g_score = []\n",
    "year = []\n",
    "\n",
    "\n",
    "if (req.status_code == 200):\n",
    "    html = req.text\n",
    "    soup = bs(html, 'html.parser')\n",
    "    selector = ''\n",
    "    elements = soup.select(selector)\n",
    "    \n",
    "    for e  in elements:\n",
    "        esg_list.append(e)\n",
    "        \n",
    "        \n",
    "    \n",
    "else:\n",
    "    print(f'오류: {response.status_code}')"
   ]
  }
 ],
 "metadata": {
  "kernelspec": {
   "display_name": "Python 3 (ipykernel)",
   "language": "python",
   "name": "python3"
  },
  "language_info": {
   "codemirror_mode": {
    "name": "ipython",
    "version": 3
   },
   "file_extension": ".py",
   "mimetype": "text/x-python",
   "name": "python",
   "nbconvert_exporter": "python",
   "pygments_lexer": "ipython3",
   "version": "3.9.7"
  }
 },
 "nbformat": 4,
 "nbformat_minor": 5
}
